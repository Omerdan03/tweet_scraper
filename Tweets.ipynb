{
 "cells": [
  {
   "cell_type": "markdown",
   "metadata": {},
   "source": [
    "<h1>Tweet Scraper</h1>\n",
    "<p>by Yaniv Goldfrid</p>"
   ]
  },
  {
   "cell_type": "markdown",
   "metadata": {},
   "source": [
    "We are using the powerfull library `snscrape` so we need to install it.\n",
    "\n",
    "More info about it: https://github.com/JustAnotherArchivist/snscrape"
   ]
  },
  {
   "cell_type": "code",
   "execution_count": 70,
   "metadata": {},
   "outputs": [],
   "source": [
    "# !pip install snscrape"
   ]
  },
  {
   "cell_type": "code",
   "execution_count": 71,
   "metadata": {},
   "outputs": [],
   "source": [
    "import csv\n",
    "import snscrape.modules.twitter as sntwitter\n",
    "import itertools\n",
    "import pandas as pd"
   ]
  },
  {
   "cell_type": "markdown",
   "metadata": {},
   "source": [
    "##### Defining the output csv file"
   ]
  },
  {
   "cell_type": "code",
   "execution_count": 72,
   "metadata": {},
   "outputs": [],
   "source": [
    "# File where all the tweets will be stored\n",
    "OUTPUT_FILE = 'tweets.csv'"
   ]
  },
  {
   "cell_type": "markdown",
   "metadata": {},
   "source": [
    "##### Our scraping function, takes care of everything"
   ]
  },
  {
   "cell_type": "code",
   "execution_count": 73,
   "metadata": {},
   "outputs": [],
   "source": [
    "def save_tweets(query, n_tweets):\n",
    "    \"\"\"\n",
    "    Finds the latest tweets according to a query and saves them in a csv file\n",
    "    :param query: the query to look for\n",
    "    :param n_tweets: number of tweets to scrape\n",
    "    \"\"\"\n",
    "    with open(OUTPUT_FILE, 'w', encoding='utf-8', newline='') as file:\n",
    "        writer = csv.writer(file)\n",
    "        writer.writerow(['id', 'date', 'username', 'content', 'url'])\n",
    "        \n",
    "        tweets_gen = sntwitter.TwitterSearchScraper(query).get_items()\n",
    "        top_tweets = itertools.islice(tweets_gen, n_tweets)\n",
    "        \n",
    "        for tweet in top_tweets:\n",
    "            writer.writerow([tweet.id, tweet.date, tweet.username, tweet.content, tweet.url])\n",
    "        \n",
    "        print('Done!')"
   ]
  },
  {
   "cell_type": "markdown",
   "metadata": {},
   "source": [
    "##### Saving the tweets into a csv file"
   ]
  },
  {
   "cell_type": "code",
   "execution_count": 74,
   "metadata": {},
   "outputs": [
    {
     "name": "stdout",
     "output_type": "stream",
     "text": [
      "Done!\n"
     ]
    }
   ],
   "source": [
    "save_tweets(query='#covid', n_tweets=10)"
   ]
  },
  {
   "cell_type": "markdown",
   "metadata": {},
   "source": [
    "##### Let's take a look at the file now"
   ]
  },
  {
   "cell_type": "code",
   "execution_count": 75,
   "metadata": {},
   "outputs": [
    {
     "data": {
      "text/html": [
       "<div>\n",
       "<style scoped>\n",
       "    .dataframe tbody tr th:only-of-type {\n",
       "        vertical-align: middle;\n",
       "    }\n",
       "\n",
       "    .dataframe tbody tr th {\n",
       "        vertical-align: top;\n",
       "    }\n",
       "\n",
       "    .dataframe thead th {\n",
       "        text-align: right;\n",
       "    }\n",
       "</style>\n",
       "<table border=\"1\" class=\"dataframe\">\n",
       "  <thead>\n",
       "    <tr style=\"text-align: right;\">\n",
       "      <th></th>\n",
       "      <th>id</th>\n",
       "      <th>date</th>\n",
       "      <th>username</th>\n",
       "      <th>content</th>\n",
       "      <th>url</th>\n",
       "    </tr>\n",
       "  </thead>\n",
       "  <tbody>\n",
       "    <tr>\n",
       "      <th>0</th>\n",
       "      <td>1349412195608760322</td>\n",
       "      <td>2021-01-13 17:45:12+00:00</td>\n",
       "      <td>WaysideYFSN</td>\n",
       "      <td>2020 is over but #COVID is still with us. Stil...</td>\n",
       "      <td>https://twitter.com/WaysideYFSN/status/1349412...</td>\n",
       "    </tr>\n",
       "    <tr>\n",
       "      <th>1</th>\n",
       "      <td>1349412179058032643</td>\n",
       "      <td>2021-01-13 17:45:09+00:00</td>\n",
       "      <td>hhourpodcast</td>\n",
       "      <td>Ep. #92 Terry Wood - Falklands Veteran https:/...</td>\n",
       "      <td>https://twitter.com/hhourpodcast/status/134941...</td>\n",
       "    </tr>\n",
       "    <tr>\n",
       "      <th>2</th>\n",
       "      <td>1349412165103591425</td>\n",
       "      <td>2021-01-13 17:45:05+00:00</td>\n",
       "      <td>DEVENEYMKTG</td>\n",
       "      <td>As the conversation around the #COVID #Vaccine...</td>\n",
       "      <td>https://twitter.com/DEVENEYMKTG/status/1349412...</td>\n",
       "    </tr>\n",
       "    <tr>\n",
       "      <th>3</th>\n",
       "      <td>1349412162725421058</td>\n",
       "      <td>2021-01-13 17:45:05+00:00</td>\n",
       "      <td>JimmyBondSkier</td>\n",
       "      <td>@JuVonL Coucher up and down avec des courbatur...</td>\n",
       "      <td>https://twitter.com/JimmyBondSkier/status/1349...</td>\n",
       "    </tr>\n",
       "    <tr>\n",
       "      <th>4</th>\n",
       "      <td>1349412154827485187</td>\n",
       "      <td>2021-01-13 17:45:03+00:00</td>\n",
       "      <td>CALEBXGASTON</td>\n",
       "      <td>NBA told players they cant hug before or after...</td>\n",
       "      <td>https://twitter.com/CALEBXGASTON/status/134941...</td>\n",
       "    </tr>\n",
       "    <tr>\n",
       "      <th>5</th>\n",
       "      <td>1349412145834962946</td>\n",
       "      <td>2021-01-13 17:45:01+00:00</td>\n",
       "      <td>A_V_Associates</td>\n",
       "      <td>As Congress focuses on #impeachment during the...</td>\n",
       "      <td>https://twitter.com/A_V_Associates/status/1349...</td>\n",
       "    </tr>\n",
       "    <tr>\n",
       "      <th>6</th>\n",
       "      <td>1349412142441664512</td>\n",
       "      <td>2021-01-13 17:45:00+00:00</td>\n",
       "      <td>FiscaliaCDMX</td>\n",
       "      <td>La Coordinación Territorial Venustiano Carranz...</td>\n",
       "      <td>https://twitter.com/FiscaliaCDMX/status/134941...</td>\n",
       "    </tr>\n",
       "    <tr>\n",
       "      <th>7</th>\n",
       "      <td>1349412107876495362</td>\n",
       "      <td>2021-01-13 17:44:52+00:00</td>\n",
       "      <td>schoelcher_og78</td>\n",
       "      <td>Ce que fait #Israël en matière de gest° du #CO...</td>\n",
       "      <td>https://twitter.com/schoelcher_og78/status/134...</td>\n",
       "    </tr>\n",
       "    <tr>\n",
       "      <th>8</th>\n",
       "      <td>1349412099840217088</td>\n",
       "      <td>2021-01-13 17:44:50+00:00</td>\n",
       "      <td>blendfrei</td>\n",
       "      <td>@Bundesrat_Bern @s_sommaruga @ParmelinG @alain...</td>\n",
       "      <td>https://twitter.com/blendfrei/status/134941209...</td>\n",
       "    </tr>\n",
       "    <tr>\n",
       "      <th>9</th>\n",
       "      <td>1349412098070228994</td>\n",
       "      <td>2021-01-13 17:44:49+00:00</td>\n",
       "      <td>GDS_it</td>\n",
       "      <td>#Covid, anche il sindaco di #Marsala chiede la...</td>\n",
       "      <td>https://twitter.com/GDS_it/status/134941209807...</td>\n",
       "    </tr>\n",
       "  </tbody>\n",
       "</table>\n",
       "</div>"
      ],
      "text/plain": [
       "                    id                       date         username  \\\n",
       "0  1349412195608760322  2021-01-13 17:45:12+00:00      WaysideYFSN   \n",
       "1  1349412179058032643  2021-01-13 17:45:09+00:00     hhourpodcast   \n",
       "2  1349412165103591425  2021-01-13 17:45:05+00:00      DEVENEYMKTG   \n",
       "3  1349412162725421058  2021-01-13 17:45:05+00:00   JimmyBondSkier   \n",
       "4  1349412154827485187  2021-01-13 17:45:03+00:00     CALEBXGASTON   \n",
       "5  1349412145834962946  2021-01-13 17:45:01+00:00   A_V_Associates   \n",
       "6  1349412142441664512  2021-01-13 17:45:00+00:00     FiscaliaCDMX   \n",
       "7  1349412107876495362  2021-01-13 17:44:52+00:00  schoelcher_og78   \n",
       "8  1349412099840217088  2021-01-13 17:44:50+00:00        blendfrei   \n",
       "9  1349412098070228994  2021-01-13 17:44:49+00:00           GDS_it   \n",
       "\n",
       "                                             content  \\\n",
       "0  2020 is over but #COVID is still with us. Stil...   \n",
       "1  Ep. #92 Terry Wood - Falklands Veteran https:/...   \n",
       "2  As the conversation around the #COVID #Vaccine...   \n",
       "3  @JuVonL Coucher up and down avec des courbatur...   \n",
       "4  NBA told players they cant hug before or after...   \n",
       "5  As Congress focuses on #impeachment during the...   \n",
       "6  La Coordinación Territorial Venustiano Carranz...   \n",
       "7  Ce que fait #Israël en matière de gest° du #CO...   \n",
       "8  @Bundesrat_Bern @s_sommaruga @ParmelinG @alain...   \n",
       "9  #Covid, anche il sindaco di #Marsala chiede la...   \n",
       "\n",
       "                                                 url  \n",
       "0  https://twitter.com/WaysideYFSN/status/1349412...  \n",
       "1  https://twitter.com/hhourpodcast/status/134941...  \n",
       "2  https://twitter.com/DEVENEYMKTG/status/1349412...  \n",
       "3  https://twitter.com/JimmyBondSkier/status/1349...  \n",
       "4  https://twitter.com/CALEBXGASTON/status/134941...  \n",
       "5  https://twitter.com/A_V_Associates/status/1349...  \n",
       "6  https://twitter.com/FiscaliaCDMX/status/134941...  \n",
       "7  https://twitter.com/schoelcher_og78/status/134...  \n",
       "8  https://twitter.com/blendfrei/status/134941209...  \n",
       "9  https://twitter.com/GDS_it/status/134941209807...  "
      ]
     },
     "execution_count": 75,
     "metadata": {},
     "output_type": "execute_result"
    }
   ],
   "source": [
    "tweets = pd.read_csv(OUTPUT_FILE)\n",
    "tweets"
   ]
  }
 ],
 "metadata": {
  "kernelspec": {
   "display_name": "Python 3",
   "language": "python",
   "name": "python3"
  },
  "language_info": {
   "codemirror_mode": {
    "name": "ipython",
    "version": 3
   },
   "file_extension": ".py",
   "mimetype": "text/x-python",
   "name": "python",
   "nbconvert_exporter": "python",
   "pygments_lexer": "ipython3",
   "version": "3.8.5"
  },
  "toc": {
   "base_numbering": 1,
   "nav_menu": {},
   "number_sections": true,
   "sideBar": true,
   "skip_h1_title": false,
   "title_cell": "Table of Contents",
   "title_sidebar": "Contents",
   "toc_cell": false,
   "toc_position": {},
   "toc_section_display": true,
   "toc_window_display": false
  }
 },
 "nbformat": 4,
 "nbformat_minor": 4
}
