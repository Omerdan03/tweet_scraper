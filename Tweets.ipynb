{
 "cells": [
  {
   "cell_type": "markdown",
   "metadata": {},
   "source": [
    "<h1>Tweet Scraper</h1>\n",
    "<p>by Yaniv Goldfrid</p>"
   ]
  },
  {
   "cell_type": "code",
   "execution_count": 63,
   "metadata": {},
   "outputs": [],
   "source": [
    "# !pip install snscrape"
   ]
  },
  {
   "cell_type": "code",
   "execution_count": 64,
   "metadata": {},
   "outputs": [],
   "source": [
    "import csv\n",
    "import snscrape.modules.twitter as sntwitter\n",
    "import itertools\n",
    "import pandas as pd"
   ]
  },
  {
   "cell_type": "code",
   "execution_count": 65,
   "metadata": {},
   "outputs": [],
   "source": [
    "# File where all the tweets will be stored\n",
    "OUTPUT_FILE = 'tweets.csv'"
   ]
  },
  {
   "cell_type": "code",
   "execution_count": 66,
   "metadata": {},
   "outputs": [],
   "source": [
    "def save_tweets(query, n_tweets):\n",
    "    \"\"\"\n",
    "    Finds the latest tweets according to a query and saves them in a csv file\n",
    "    :param query: the query to look for\n",
    "    :param n_tweets: number of tweets to scrape\n",
    "    \"\"\"\n",
    "    with open(OUTPUT_FILE, 'w', encoding='utf-8', newline='') as file:\n",
    "        writer = csv.writer(file)\n",
    "        writer.writerow(['id', 'date', 'username', 'content', 'url'])\n",
    "        tweets_gen = sntwitter.TwitterSearchScraper(query).get_items()\n",
    "        top_tweets = itertools.islice(tweets_gen, n_tweets)\n",
    "        \n",
    "        for tweet in top_tweets:\n",
    "            writer.writerow([tweet.id, tweet.date, tweet.username, tweet.content, tweet.url])\n",
    "        \n",
    "        print('Done!')"
   ]
  },
  {
   "cell_type": "code",
   "execution_count": 67,
   "metadata": {},
   "outputs": [
    {
     "name": "stdout",
     "output_type": "stream",
     "text": [
      "Done!\n"
     ]
    }
   ],
   "source": [
    "save_tweets(query='#covid', n_tweets=10)"
   ]
  },
  {
   "cell_type": "code",
   "execution_count": 68,
   "metadata": {},
   "outputs": [
    {
     "data": {
      "text/html": [
       "<div>\n",
       "<style scoped>\n",
       "    .dataframe tbody tr th:only-of-type {\n",
       "        vertical-align: middle;\n",
       "    }\n",
       "\n",
       "    .dataframe tbody tr th {\n",
       "        vertical-align: top;\n",
       "    }\n",
       "\n",
       "    .dataframe thead th {\n",
       "        text-align: right;\n",
       "    }\n",
       "</style>\n",
       "<table border=\"1\" class=\"dataframe\">\n",
       "  <thead>\n",
       "    <tr style=\"text-align: right;\">\n",
       "      <th></th>\n",
       "      <th>id</th>\n",
       "      <th>date</th>\n",
       "      <th>username</th>\n",
       "      <th>content</th>\n",
       "      <th>url</th>\n",
       "    </tr>\n",
       "  </thead>\n",
       "  <tbody>\n",
       "    <tr>\n",
       "      <th>0</th>\n",
       "      <td>1349409951802925072</td>\n",
       "      <td>2021-01-13 17:36:17+00:00</td>\n",
       "      <td>ExanteData</td>\n",
       "      <td>A look at new daily #COVID cases in #Japan. Th...</td>\n",
       "      <td>https://twitter.com/ExanteData/status/13494099...</td>\n",
       "    </tr>\n",
       "    <tr>\n",
       "      <th>1</th>\n",
       "      <td>1349409948334174211</td>\n",
       "      <td>2021-01-13 17:36:17+00:00</td>\n",
       "      <td>ExanteData</td>\n",
       "      <td>#Japan expands #COVID  state of emergency in t...</td>\n",
       "      <td>https://twitter.com/ExanteData/status/13494099...</td>\n",
       "    </tr>\n",
       "    <tr>\n",
       "      <th>2</th>\n",
       "      <td>1349409933360562179</td>\n",
       "      <td>2021-01-13 17:36:13+00:00</td>\n",
       "      <td>BucksRam</td>\n",
       "      <td>https://t.co/Xyw7afBm8b is it too much to expe...</td>\n",
       "      <td>https://twitter.com/BucksRam/status/1349409933...</td>\n",
       "    </tr>\n",
       "    <tr>\n",
       "      <th>3</th>\n",
       "      <td>1349409930604789760</td>\n",
       "      <td>2021-01-13 17:36:12+00:00</td>\n",
       "      <td>NewsExp08086136</td>\n",
       "      <td>US Covid-19 deaths hit another one-day high at...</td>\n",
       "      <td>https://twitter.com/NewsExp08086136/status/134...</td>\n",
       "    </tr>\n",
       "    <tr>\n",
       "      <th>4</th>\n",
       "      <td>1349409923818549249</td>\n",
       "      <td>2021-01-13 17:36:11+00:00</td>\n",
       "      <td>dfertl</td>\n",
       "      <td>Italian ex-PM Matteo #Renzi, whose party is on...</td>\n",
       "      <td>https://twitter.com/dfertl/status/134940992381...</td>\n",
       "    </tr>\n",
       "    <tr>\n",
       "      <th>5</th>\n",
       "      <td>1349409918470811652</td>\n",
       "      <td>2021-01-13 17:36:10+00:00</td>\n",
       "      <td>GregAnswers</td>\n",
       "      <td>Sorry I think 🤔 that this #Trump #impeachment ...</td>\n",
       "      <td>https://twitter.com/GregAnswers/status/1349409...</td>\n",
       "    </tr>\n",
       "    <tr>\n",
       "      <th>6</th>\n",
       "      <td>1349409904155648001</td>\n",
       "      <td>2021-01-13 17:36:06+00:00</td>\n",
       "      <td>pchapman24</td>\n",
       "      <td>WHAT a Brazil #covid variant 😩</td>\n",
       "      <td>https://twitter.com/pchapman24/status/13494099...</td>\n",
       "    </tr>\n",
       "    <tr>\n",
       "      <th>7</th>\n",
       "      <td>1349409901676736512</td>\n",
       "      <td>2021-01-13 17:36:06+00:00</td>\n",
       "      <td>canikm_</td>\n",
       "      <td>#Turquía: en las últimas 24 horas 173 personas...</td>\n",
       "      <td>https://twitter.com/canikm_/status/13494099016...</td>\n",
       "    </tr>\n",
       "    <tr>\n",
       "      <th>8</th>\n",
       "      <td>1349409857485611019</td>\n",
       "      <td>2021-01-13 17:35:55+00:00</td>\n",
       "      <td>riccio_echinus</td>\n",
       "      <td>Bozza piano pandemico, il medico di Welby: 'La...</td>\n",
       "      <td>https://twitter.com/riccio_echinus/status/1349...</td>\n",
       "    </tr>\n",
       "    <tr>\n",
       "      <th>9</th>\n",
       "      <td>1349409849206046720</td>\n",
       "      <td>2021-01-13 17:35:53+00:00</td>\n",
       "      <td>RobertJFBarnes1</td>\n",
       "      <td>There will be no end to the virus if people do...</td>\n",
       "      <td>https://twitter.com/RobertJFBarnes1/status/134...</td>\n",
       "    </tr>\n",
       "  </tbody>\n",
       "</table>\n",
       "</div>"
      ],
      "text/plain": [
       "                    id                       date         username  \\\n",
       "0  1349409951802925072  2021-01-13 17:36:17+00:00       ExanteData   \n",
       "1  1349409948334174211  2021-01-13 17:36:17+00:00       ExanteData   \n",
       "2  1349409933360562179  2021-01-13 17:36:13+00:00         BucksRam   \n",
       "3  1349409930604789760  2021-01-13 17:36:12+00:00  NewsExp08086136   \n",
       "4  1349409923818549249  2021-01-13 17:36:11+00:00           dfertl   \n",
       "5  1349409918470811652  2021-01-13 17:36:10+00:00      GregAnswers   \n",
       "6  1349409904155648001  2021-01-13 17:36:06+00:00       pchapman24   \n",
       "7  1349409901676736512  2021-01-13 17:36:06+00:00          canikm_   \n",
       "8  1349409857485611019  2021-01-13 17:35:55+00:00   riccio_echinus   \n",
       "9  1349409849206046720  2021-01-13 17:35:53+00:00  RobertJFBarnes1   \n",
       "\n",
       "                                             content  \\\n",
       "0  A look at new daily #COVID cases in #Japan. Th...   \n",
       "1  #Japan expands #COVID  state of emergency in t...   \n",
       "2  https://t.co/Xyw7afBm8b is it too much to expe...   \n",
       "3  US Covid-19 deaths hit another one-day high at...   \n",
       "4  Italian ex-PM Matteo #Renzi, whose party is on...   \n",
       "5  Sorry I think 🤔 that this #Trump #impeachment ...   \n",
       "6                     WHAT a Brazil #covid variant 😩   \n",
       "7  #Turquía: en las últimas 24 horas 173 personas...   \n",
       "8  Bozza piano pandemico, il medico di Welby: 'La...   \n",
       "9  There will be no end to the virus if people do...   \n",
       "\n",
       "                                                 url  \n",
       "0  https://twitter.com/ExanteData/status/13494099...  \n",
       "1  https://twitter.com/ExanteData/status/13494099...  \n",
       "2  https://twitter.com/BucksRam/status/1349409933...  \n",
       "3  https://twitter.com/NewsExp08086136/status/134...  \n",
       "4  https://twitter.com/dfertl/status/134940992381...  \n",
       "5  https://twitter.com/GregAnswers/status/1349409...  \n",
       "6  https://twitter.com/pchapman24/status/13494099...  \n",
       "7  https://twitter.com/canikm_/status/13494099016...  \n",
       "8  https://twitter.com/riccio_echinus/status/1349...  \n",
       "9  https://twitter.com/RobertJFBarnes1/status/134...  "
      ]
     },
     "execution_count": 68,
     "metadata": {},
     "output_type": "execute_result"
    }
   ],
   "source": [
    "tweets = pd.read_csv(OUTPUT_FILE)\n",
    "tweets"
   ]
  },
  {
   "cell_type": "code",
   "execution_count": null,
   "metadata": {},
   "outputs": [],
   "source": []
  }
 ],
 "metadata": {
  "kernelspec": {
   "display_name": "Python 3",
   "language": "python",
   "name": "python3"
  },
  "language_info": {
   "codemirror_mode": {
    "name": "ipython",
    "version": 3
   },
   "file_extension": ".py",
   "mimetype": "text/x-python",
   "name": "python",
   "nbconvert_exporter": "python",
   "pygments_lexer": "ipython3",
   "version": "3.8.5"
  },
  "toc": {
   "base_numbering": 1,
   "nav_menu": {},
   "number_sections": true,
   "sideBar": true,
   "skip_h1_title": false,
   "title_cell": "Table of Contents",
   "title_sidebar": "Contents",
   "toc_cell": false,
   "toc_position": {},
   "toc_section_display": true,
   "toc_window_display": false
  }
 },
 "nbformat": 4,
 "nbformat_minor": 4
}
